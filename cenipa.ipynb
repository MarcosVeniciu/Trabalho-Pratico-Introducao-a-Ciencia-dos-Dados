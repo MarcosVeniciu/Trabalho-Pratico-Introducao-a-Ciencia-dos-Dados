{
 "cells": [
  {
   "cell_type": "code",
   "execution_count": 1,
   "id": "a5eb231a",
   "metadata": {},
   "outputs": [
    {
     "name": "stdout",
     "output_type": "stream",
     "text": [
      "--2022-06-14 19:17:32--  http://sistema.cenipa.aer.mil.br/cenipa/media/opendata/ocorrencia.csv\n",
      "Resolving sistema.cenipa.aer.mil.br (sistema.cenipa.aer.mil.br)... 189.9.13.91\n",
      "Connecting to sistema.cenipa.aer.mil.br (sistema.cenipa.aer.mil.br)|189.9.13.91|:80... connected.\n",
      "HTTP request sent, awaiting response... 200 OK\n",
      "Length: 788905 (770K) [text/csv]\n",
      "Saving to: ‘ocorrencia.csv’\n",
      "\n",
      "ocorrencia.csv      100%[===================>] 770,42K  1,14MB/s    in 0,7s    \n",
      "\n",
      "2022-06-14 19:17:33 (1,14 MB/s) - ‘ocorrencia.csv’ saved [788905/788905]\n",
      "\n",
      "--2022-06-14 19:17:33--  http://sistema.cenipa.aer.mil.br/cenipa/media/opendata/ocorrencia_tipo.csv\n",
      "Reusing existing connection to sistema.cenipa.aer.mil.br:80.\n",
      "HTTP request sent, awaiting response... 200 OK\n",
      "Length: 445524 (435K) [text/csv]\n",
      "Saving to: ‘ocorrencia_tipo.csv’\n",
      "\n",
      "ocorrencia_tipo.csv 100%[===================>] 435,08K  2,63MB/s    in 0,2s    \n",
      "\n",
      "2022-06-14 19:17:33 (2,63 MB/s) - ‘ocorrencia_tipo.csv’ saved [445524/445524]\n",
      "\n",
      "--2022-06-14 19:17:33--  http://sistema.cenipa.aer.mil.br/cenipa/media/opendata/aeronave.csv\n",
      "Reusing existing connection to sistema.cenipa.aer.mil.br:80.\n",
      "HTTP request sent, awaiting response... 200 OK\n",
      "Length: 1005619 (982K) [text/csv]\n",
      "Saving to: ‘aeronave.csv’\n",
      "\n",
      "aeronave.csv        100%[===================>] 982,05K  1,89MB/s    in 0,5s    \n",
      "\n",
      "2022-06-14 19:17:34 (1,89 MB/s) - ‘aeronave.csv’ saved [1005619/1005619]\n",
      "\n",
      "--2022-06-14 19:17:34--  http://sistema.cenipa.aer.mil.br/cenipa/media/opendata/fator_contribuinte.csv\n",
      "Reusing existing connection to sistema.cenipa.aer.mil.br:80.\n",
      "HTTP request sent, awaiting response... 200 OK\n",
      "Length: 298532 (292K) [text/csv]\n",
      "Saving to: ‘fator_contribuinte.csv’\n",
      "\n",
      "fator_contribuinte. 100%[===================>] 291,54K   576KB/s    in 0,5s    \n",
      "\n",
      "2022-06-14 19:17:34 (576 KB/s) - ‘fator_contribuinte.csv’ saved [298532/298532]\n",
      "\n",
      "--2022-06-14 19:17:34--  http://sistema.cenipa.aer.mil.br/cenipa/media/opendata/recomendacao.csv\n",
      "Reusing existing connection to sistema.cenipa.aer.mil.br:80.\n",
      "HTTP request sent, awaiting response... 200 OK\n",
      "Length: 485301 (474K) [text/csv]\n",
      "Saving to: ‘recomendacao.csv’\n",
      "\n",
      "recomendacao.csv    100%[===================>] 473,93K   895KB/s    in 0,5s    \n",
      "\n",
      "2022-06-14 19:17:35 (895 KB/s) - ‘recomendacao.csv’ saved [485301/485301]\n",
      "\n",
      "FINISHED --2022-06-14 19:17:35--\n",
      "Total wall clock time: 2,7s\n",
      "Downloaded: 5 files, 2,9M in 2,4s (1,22 MB/s)\n",
      "Defaulting to user installation because normal site-packages is not writeable\n",
      "Requirement already satisfied: pandas in /home/masaharu/.local/lib/python3.10/site-packages (1.4.2)\n",
      "Requirement already satisfied: python-dateutil>=2.8.1 in /usr/lib/python3.10/site-packages (from pandas) (2.8.2)\n",
      "Requirement already satisfied: pytz>=2020.1 in /usr/lib/python3.10/site-packages (from pandas) (2022.1)\n",
      "Requirement already satisfied: numpy>=1.21.0 in /usr/lib/python3.10/site-packages (from pandas) (1.22.4)\n",
      "Requirement already satisfied: six>=1.5 in /usr/lib/python3.10/site-packages (from python-dateutil>=2.8.1->pandas) (1.16.0)\n"
     ]
    }
   ],
   "source": [
    "!wget http://sistema.cenipa.aer.mil.br/cenipa/media/opendata/ocorrencia.csv http://sistema.cenipa.aer.mil.br/cenipa/media/opendata/ocorrencia_tipo.csv http://sistema.cenipa.aer.mil.br/cenipa/media/opendata/aeronave.csv http://sistema.cenipa.aer.mil.br/cenipa/media/opendata/fator_contribuinte.csv http://sistema.cenipa.aer.mil.br/cenipa/media/opendata/recomendacao.csv\n",
    "!pip install pandas"
   ]
  },
  {
   "cell_type": "code",
   "execution_count": 2,
   "id": "e00ecb28",
   "metadata": {},
   "outputs": [],
   "source": [
    "import pandas as pd"
   ]
  },
  {
   "cell_type": "code",
   "execution_count": 4,
   "id": "be883143",
   "metadata": {},
   "outputs": [],
   "source": [
    "df_ocorrencia = pd.read_csv(\"./ocorrencia.csv\", sep=\";\")\n",
    "df_ocorrencia_tipo = pd.read_csv(\"./ocorrencia_tipo.csv\", sep=\";\")\n",
    "df_aeronave = pd.read_csv(\"./aeronave.csv\", sep=\";\")\n",
    "df_fator_contribuinte = pd.read_csv(\"./fator_contribuinte.csv\", sep=\";\")\n",
    "df_recomendacao = pd.read_csv(\"./recomendacao.csv\", sep=\";\")"
   ]
  }
 ],
 "metadata": {
  "kernelspec": {
   "display_name": "Python 3.10.5 64-bit",
   "language": "python",
   "name": "python3"
  },
  "language_info": {
   "codemirror_mode": {
    "name": "ipython",
    "version": 3
   },
   "file_extension": ".py",
   "mimetype": "text/x-python",
   "name": "python",
   "nbconvert_exporter": "python",
   "pygments_lexer": "ipython3",
   "version": "3.10.5"
  },
  "vscode": {
   "interpreter": {
    "hash": "e7370f93d1d0cde622a1f8e1c04877d8463912d04d973331ad4851f04de6915a"
   }
  }
 },
 "nbformat": 4,
 "nbformat_minor": 5
}
