{
 "cells": [
  {
   "cell_type": "code",
   "execution_count": 14,
   "id": "a5eb231a",
   "metadata": {},
   "outputs": [
    {
     "name": "stdout",
     "output_type": "stream",
     "text": [
      "--2022-06-14 19:44:18--  https://raw.githubusercontent.com/MarcosVeniciu/Trabalho-Pratico-Introducao-a-Ciencia-dos-Dados/main/dados/ocorrencia.csv\n",
      "Loaded CA certificate '/etc/ssl/certs/ca-certificates.crt'\n",
      "Resolving raw.githubusercontent.com (raw.githubusercontent.com)... 185.199.109.133, 185.199.108.133, 185.199.110.133, ...\n",
      "Connecting to raw.githubusercontent.com (raw.githubusercontent.com)|185.199.109.133|:443... connected.\n",
      "HTTP request sent, awaiting response... 200 OK\n",
      "Length: 788905 (770K) [text/plain]\n",
      "Saving to: ‘dados/ocorrencia.csv’\n",
      "\n",
      "ocorrencia.csv      100%[===================>] 770,42K  3,72MB/s    in 0,2s    \n",
      "\n",
      "2022-06-14 19:44:18 (3,72 MB/s) - ‘dados/ocorrencia.csv’ saved [788905/788905]\n",
      "\n",
      "--2022-06-14 19:44:18--  https://raw.githubusercontent.com/MarcosVeniciu/Trabalho-Pratico-Introducao-a-Ciencia-dos-Dados/main/dados/ocorrencia_tipo.csv\n",
      "Reusing existing connection to raw.githubusercontent.com:443.\n",
      "HTTP request sent, awaiting response... 200 OK\n",
      "Length: 445524 (435K) [text/plain]\n",
      "Saving to: ‘dados/ocorrencia_tipo.csv’\n",
      "\n",
      "ocorrencia_tipo.csv 100%[===================>] 435,08K  --.-KB/s    in 0,06s   \n",
      "\n",
      "2022-06-14 19:44:19 (6,95 MB/s) - ‘dados/ocorrencia_tipo.csv’ saved [445524/445524]\n",
      "\n",
      "--2022-06-14 19:44:19--  https://raw.githubusercontent.com/MarcosVeniciu/Trabalho-Pratico-Introducao-a-Ciencia-dos-Dados/main/dados/aeronave.csv\n",
      "Reusing existing connection to raw.githubusercontent.com:443.\n",
      "HTTP request sent, awaiting response... 200 OK\n",
      "Length: 1005619 (982K) [text/plain]\n",
      "Saving to: ‘dados/aeronave.csv’\n",
      "\n",
      "aeronave.csv        100%[===================>] 982,05K  6,29MB/s    in 0,2s    \n",
      "\n",
      "2022-06-14 19:44:19 (6,29 MB/s) - ‘dados/aeronave.csv’ saved [1005619/1005619]\n",
      "\n",
      "--2022-06-14 19:44:19--  https://raw.githubusercontent.com/MarcosVeniciu/Trabalho-Pratico-Introducao-a-Ciencia-dos-Dados/main/dados/fator_contribuinte.csv\n",
      "Reusing existing connection to raw.githubusercontent.com:443.\n",
      "HTTP request sent, awaiting response... 200 OK\n",
      "Length: 298532 (292K) [text/plain]\n",
      "Saving to: ‘dados/fator_contribuinte.csv’\n",
      "\n",
      "fator_contribuinte. 100%[===================>] 291,54K  --.-KB/s    in 0,03s   \n",
      "\n",
      "2022-06-14 19:44:19 (8,39 MB/s) - ‘dados/fator_contribuinte.csv’ saved [298532/298532]\n",
      "\n",
      "--2022-06-14 19:44:19--  https://raw.githubusercontent.com/MarcosVeniciu/Trabalho-Pratico-Introducao-a-Ciencia-dos-Dados/main/dados/recomendacao.csv\n",
      "Reusing existing connection to raw.githubusercontent.com:443.\n",
      "HTTP request sent, awaiting response... 200 OK\n",
      "Length: 485301 (474K) [text/plain]\n",
      "Saving to: ‘dados/recomendacao.csv’\n",
      "\n",
      "recomendacao.csv    100%[===================>] 473,93K  --.-KB/s    in 0,06s   \n",
      "\n",
      "2022-06-14 19:44:19 (8,29 MB/s) - ‘dados/recomendacao.csv’ saved [485301/485301]\n",
      "\n",
      "FINISHED --2022-06-14 19:44:19--\n",
      "Total wall clock time: 0,8s\n",
      "Downloaded: 5 files, 2,9M in 0,5s (5,70 MB/s)\n",
      "Defaulting to user installation because normal site-packages is not writeable\n",
      "Requirement already satisfied: pandas in /home/masaharu/.local/lib/python3.10/site-packages (1.4.2)\n",
      "Requirement already satisfied: python-dateutil>=2.8.1 in /usr/lib/python3.10/site-packages (from pandas) (2.8.2)\n",
      "Requirement already satisfied: pytz>=2020.1 in /usr/lib/python3.10/site-packages (from pandas) (2022.1)\n",
      "Requirement already satisfied: numpy>=1.21.0 in /usr/lib/python3.10/site-packages (from pandas) (1.22.4)\n",
      "Requirement already satisfied: six>=1.5 in /usr/lib/python3.10/site-packages (from python-dateutil>=2.8.1->pandas) (1.16.0)\n"
     ]
    }
   ],
   "source": [
    "!mkdir -p dados\n",
    "!wget https://raw.githubusercontent.com/MarcosVeniciu/Trabalho-Pratico-Introducao-a-Ciencia-dos-Dados/main/dados/ocorrencia.csv https://raw.githubusercontent.com/MarcosVeniciu/Trabalho-Pratico-Introducao-a-Ciencia-dos-Dados/main/dados/ocorrencia_tipo.csv https://raw.githubusercontent.com/MarcosVeniciu/Trabalho-Pratico-Introducao-a-Ciencia-dos-Dados/main/dados/aeronave.csv https://raw.githubusercontent.com/MarcosVeniciu/Trabalho-Pratico-Introducao-a-Ciencia-dos-Dados/main/dados/fator_contribuinte.csv https://raw.githubusercontent.com/MarcosVeniciu/Trabalho-Pratico-Introducao-a-Ciencia-dos-Dados/main/dados/recomendacao.csv -P dados\n",
    "!pip install pandas"
   ]
  },
  {
   "cell_type": "code",
   "execution_count": 17,
   "id": "e00ecb28",
   "metadata": {},
   "outputs": [],
   "source": [
    "import pandas as pd"
   ]
  },
  {
   "cell_type": "code",
   "execution_count": 18,
   "id": "be883143",
   "metadata": {},
   "outputs": [],
   "source": [
    "df_ocorrencia = pd.read_csv(\"dados/ocorrencia.csv\", sep=\";\")\n",
    "df_ocorrencia_tipo = pd.read_csv(\"dados/ocorrencia_tipo.csv\", sep=\";\")\n",
    "df_aeronave = pd.read_csv(\"dados/aeronave.csv\", sep=\";\")\n",
    "df_fator_contribuinte = pd.read_csv(\"dados/fator_contribuinte.csv\", sep=\";\")\n",
    "df_recomendacao = pd.read_csv(\"dados/recomendacao.csv\", sep=\";\")"
   ]
  }
 ],
 "metadata": {
  "kernelspec": {
   "display_name": "Python 3.10.5 64-bit",
   "language": "python",
   "name": "python3"
  },
  "language_info": {
   "codemirror_mode": {
    "name": "ipython",
    "version": 3
   },
   "file_extension": ".py",
   "mimetype": "text/x-python",
   "name": "python",
   "nbconvert_exporter": "python",
   "pygments_lexer": "ipython3",
   "version": "3.10.5"
  },
  "vscode": {
   "interpreter": {
    "hash": "e7370f93d1d0cde622a1f8e1c04877d8463912d04d973331ad4851f04de6915a"
   }
  }
 },
 "nbformat": 4,
 "nbformat_minor": 5
}
